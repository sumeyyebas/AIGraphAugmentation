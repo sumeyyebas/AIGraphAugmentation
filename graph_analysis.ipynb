{
 "cells": [
  {
   "cell_type": "markdown",
   "metadata": {},
   "source": [
    "This notebook can be used for analyzing the statistics of graphs in datasets."
   ]
  },
  {
   "cell_type": "code",
   "execution_count": 1,
   "metadata": {},
   "outputs": [],
   "source": [
    "import torch\n",
    "from torch_geometric.utils import to_networkx\n",
    "import networkx as nx\n",
    "from collections import Counter\n",
    "\n",
    "def print_average_graph_statistics(graphs):\n",
    "    total_num_nodes = 0\n",
    "    total_num_edges = 0\n",
    "    total_avg_degree = 0\n",
    "    total_density = 0\n",
    "    total_avg_clustering = 0\n",
    "    connected_graphs = 0\n",
    "    total_diameter = 0\n",
    "    diameter_count = 0  # Count only for connected graphs\n",
    "    label_counter = Counter()\n",
    "    \n",
    "    for data in graphs:\n",
    "        # Convert PyTorch Geometric Data to NetworkX graph\n",
    "        graph = to_networkx(data, to_undirected=True)\n",
    "        \n",
    "        # Number of nodes\n",
    "        num_nodes = graph.number_of_nodes()\n",
    "        total_num_nodes += num_nodes\n",
    "        \n",
    "        # Number of edges\n",
    "        num_edges = graph.number_of_edges()\n",
    "        total_num_edges += num_edges\n",
    "        \n",
    "        # Average degree\n",
    "        if num_nodes > 0:\n",
    "            avg_degree = sum(dict(graph.degree()).values()) / num_nodes\n",
    "        else:\n",
    "            avg_degree = 0\n",
    "        total_avg_degree += avg_degree\n",
    "        \n",
    "        # Density\n",
    "        density = nx.density(graph)\n",
    "        total_density += density\n",
    "        \n",
    "        # Average clustering coefficient\n",
    "        avg_clustering = nx.average_clustering(graph)\n",
    "        total_avg_clustering += avg_clustering\n",
    "        \n",
    "        # Diameter (only if the graph is connected)\n",
    "        if not graph.is_directed():\n",
    "            is_connected = nx.is_connected(graph)\n",
    "            if is_connected:\n",
    "                connected_graphs += 1\n",
    "                diameter = nx.diameter(graph)\n",
    "                total_diameter += diameter\n",
    "                diameter_count += 1\n",
    "        \n",
    "        # Update label counter\n",
    "        if hasattr(data, 'y'):\n",
    "            label_counter[data.y.item()] += 1\n",
    "    \n",
    "    num_graphs = len(graphs)\n",
    "    \n",
    "    print(\"Average graph statistics:\")\n",
    "    print(f\"  Number of graphs: {num_graphs}\")\n",
    "    print(f\"  Average number of nodes: {total_num_nodes / num_graphs:.2f}\")\n",
    "    print(f\"  Average number of edges: {total_num_edges / num_graphs:.2f}\")\n",
    "    print(f\"  Average degree: {total_avg_degree / num_graphs:.2f}\")\n",
    "    print(f\"  Average density: {total_density / num_graphs:.4f}\")\n",
    "    print(f\"  Average clustering coefficient: {total_avg_clustering / num_graphs:.4f}\")\n",
    "    \n",
    "    if connected_graphs > 0:\n",
    "        print(f\"  Average diameter (connected graphs only): {total_diameter / diameter_count:.2f}\")\n",
    "    else:\n",
    "        print(\"  No connected graphs found for diameter calculation\")\n",
    "    \n",
    "    print(\"Label distribution (percentages):\")\n",
    "    for label, count in label_counter.items():\n",
    "        percentage = (count / num_graphs) * 100\n",
    "        print(f\"  Label {label}: {percentage:.2f}%\")\n",
    "\n",
    "def read_graphs_from_file(file_path):\n",
    "    data = torch.load(file_path)\n",
    "    return data"
   ]
  },
  {
   "cell_type": "code",
   "execution_count": 3,
   "metadata": {},
   "outputs": [
    {
     "name": "stdout",
     "output_type": "stream",
     "text": [
      "Average graph statistics:\n",
      "  Number of graphs: 4488\n",
      "  Average number of nodes: 73.03\n",
      "  Average number of edges: 2378.26\n",
      "  Average degree: 37.46\n",
      "  Average density: 0.5130\n",
      "  Average clustering coefficient: 0.8818\n",
      "  Average diameter (connected graphs only): 1.87\n",
      "Label distribution (percentages):\n",
      "  Label 0: 52.14%\n",
      "  Label 1: 15.71%\n",
      "  Label 2: 32.15%\n"
     ]
    }
   ],
   "source": [
    "file_path = 'path_to_graphs.pt'\n",
    "graphs = read_graphs_from_file(file_path)\n",
    "print_average_graph_statistics(graphs)"
   ]
  },
  {
   "cell_type": "code",
   "execution_count": null,
   "metadata": {},
   "outputs": [],
   "source": []
  }
 ],
 "metadata": {
  "kernelspec": {
   "display_name": "Python 3",
   "language": "python",
   "name": "python3"
  },
  "language_info": {
   "codemirror_mode": {
    "name": "ipython",
    "version": 3
   },
   "file_extension": ".py",
   "mimetype": "text/x-python",
   "name": "python",
   "nbconvert_exporter": "python",
   "pygments_lexer": "ipython3",
   "version": "3.8.16"
  }
 },
 "nbformat": 4,
 "nbformat_minor": 2
}
